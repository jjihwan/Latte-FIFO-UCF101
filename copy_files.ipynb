{
 "cells": [
  {
   "cell_type": "code",
   "execution_count": 8,
   "metadata": {},
   "outputs": [
    {
     "name": "stderr",
     "output_type": "stream",
     "text": [
      "  0%|          | 0/2048 [00:00<?, ?it/s]"
     ]
    },
    {
     "name": "stderr",
     "output_type": "stream",
     "text": [
      "100%|██████████| 2048/2048 [15:46<00:00,  2.16it/s]\n"
     ]
    }
   ],
   "source": [
    "import os\n",
    "import shutil\n",
    "from glob import glob\n",
    "from tqdm import tqdm\n",
    "dirs = sorted(glob('test_fifo_n4-frames/*'))\n",
    "\n",
    "for dir in tqdm(dirs):\n",
    "    first16_dir = dir.replace('test_fifo_n4-frames', 'test_fifo_n4-frames-first16')\n",
    "    last16_dir = dir.replace('test_fifo_n4-frames', 'test_fifo_n4-frames-last16')\n",
    "\n",
    "    os.makedirs(first16_dir, exist_ok=True)\n",
    "    os.makedirs(last16_dir, exist_ok=True)\n",
    "\n",
    "    for i in range(16):\n",
    "        shutil.copy(f'{dir}/{i:06d}.jpg', f'{first16_dir}/{i:06d}.jpg')\n",
    "        shutil.copy(f'{dir}/{(112+i):06d}.jpg', f'{last16_dir}/{(112+i):06d}.jpg')\n",
    "\n"
   ]
  },
  {
   "cell_type": "code",
   "execution_count": null,
   "metadata": {},
   "outputs": [],
   "source": []
  }
 ],
 "metadata": {
  "kernelspec": {
   "display_name": "base",
   "language": "python",
   "name": "python3"
  },
  "language_info": {
   "codemirror_mode": {
    "name": "ipython",
    "version": 3
   },
   "file_extension": ".py",
   "mimetype": "text/x-python",
   "name": "python",
   "nbconvert_exporter": "python",
   "pygments_lexer": "ipython3",
   "version": "3.8.13"
  }
 },
 "nbformat": 4,
 "nbformat_minor": 2
}
